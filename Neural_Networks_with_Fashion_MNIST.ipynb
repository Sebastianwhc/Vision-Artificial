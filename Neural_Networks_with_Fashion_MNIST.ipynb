{
  "nbformat": 4,
  "nbformat_minor": 0,
  "metadata": {
    "colab": {
      "provenance": [],
      "include_colab_link": true
    },
    "kernelspec": {
      "name": "python3",
      "display_name": "Python 3"
    }
  },
  "cells": [
    {
      "cell_type": "markdown",
      "metadata": {
        "id": "view-in-github",
        "colab_type": "text"
      },
      "source": [
        "<a href=\"https://colab.research.google.com/github/Sebastianwhc/Vision-Artificial/blob/main/Neural_Networks_with_Fashion_MNIST.ipynb\" target=\"_parent\"><img src=\"https://colab.research.google.com/assets/colab-badge.svg\" alt=\"Open In Colab\"/></a>"
      ]
    },
    {
      "cell_type": "markdown",
      "source": [
        "Artificial Vision"
      ],
      "metadata": {
        "id": "TvOdTZHtr598"
      }
    },
    {
      "cell_type": "markdown",
      "metadata": {
        "id": "1mZ0AkPGy-5H"
      },
      "source": [
        "First of all we are going to import tensorflow and check its version"
      ]
    },
    {
      "cell_type": "code",
      "metadata": {
        "id": "GslliYB_ozZm",
        "colab": {
          "base_uri": "https://localhost:8080/"
        },
        "outputId": "ef4fefb8-d27f-49f0-8803-21500500126b"
      },
      "source": [
        "import tensorflow as tf\n",
        "print(tf.__version__)"
      ],
      "execution_count": null,
      "outputs": [
        {
          "output_type": "stream",
          "name": "stdout",
          "text": [
            "2.12.0\n"
          ]
        }
      ]
    },
    {
      "cell_type": "markdown",
      "metadata": {
        "id": "yGMaaCs-zEVE"
      },
      "source": [
        "Now, let's import keras and see its version"
      ]
    },
    {
      "cell_type": "code",
      "metadata": {
        "id": "9aO6vcTTrjS2",
        "colab": {
          "base_uri": "https://localhost:8080/"
        },
        "outputId": "0a20d893-9482-4dc6-c5a3-0a98c2975b12"
      },
      "source": [
        "from tensorflow import keras\n",
        "print(keras.__version__)"
      ],
      "execution_count": null,
      "outputs": [
        {
          "output_type": "stream",
          "name": "stdout",
          "text": [
            "2.12.0\n"
          ]
        }
      ]
    },
    {
      "cell_type": "markdown",
      "source": [
        "We will train a neural network to recognize clothing items from a common dataset called Fashion MNIST. You can learn more about this dataset [here](https://github.com/zalandoresearch/fashion-mnist).\n",
        "\n",
        "It contains 70,000 clothing items in 10 different categories. Each clothing item is in a 28x28 grayscale image. You can see some examples here:\n",
        "\n",
        "![alt text](https://github.com/zalandoresearch/fashion-mnist/raw/master/doc/img/fashion-mnist-sprite.png)"
      ],
      "metadata": {
        "id": "7fo6pT-otLQt"
      }
    },
    {
      "cell_type": "code",
      "source": [
        "from keras.utils import plot_model\n",
        "# librerías auxiliares\n",
        "import pandas as pd\n",
        "import numpy as np\n",
        "np.set_printoptions(linewidth=200)\n",
        "import matplotlib.pyplot as plt"
      ],
      "metadata": {
        "id": "jB-lrWjiZvle"
      },
      "execution_count": null,
      "outputs": []
    },
    {
      "cell_type": "markdown",
      "metadata": {
        "id": "UFN1hUHWzP4e"
      },
      "source": [
        "Fashion MNIST data is available directly in the tf.keras datasets API. We load it as follows:"
      ]
    },
    {
      "cell_type": "code",
      "metadata": {
        "id": "0miFgVAtruf3"
      },
      "source": [
        "fashion_mnist = keras.datasets.fashion_mnist"
      ],
      "execution_count": null,
      "outputs": []
    },
    {
      "cell_type": "markdown",
      "source": [
        "Calling `load_data` on this object will give us two sets of two lists, these will be the training and testing values ​​for the graphs containing the clothing items and their labels."
      ],
      "metadata": {
        "id": "cAGLr0U6t_zy"
      }
    },
    {
      "cell_type": "code",
      "source": [
        "(X_train_full, y_train_full), (X_test, y_test) = fashion_mnist.load_data()"
      ],
      "metadata": {
        "id": "svKv_GFnuAn4",
        "colab": {
          "base_uri": "https://localhost:8080/"
        },
        "outputId": "2a144822-a2d3-4e1b-8bda-a987ca97c923"
      },
      "execution_count": null,
      "outputs": [
        {
          "output_type": "stream",
          "name": "stdout",
          "text": [
            "Downloading data from https://storage.googleapis.com/tensorflow/tf-keras-datasets/train-labels-idx1-ubyte.gz\n",
            "29515/29515 [==============================] - 0s 0us/step\n",
            "Downloading data from https://storage.googleapis.com/tensorflow/tf-keras-datasets/train-images-idx3-ubyte.gz\n",
            "26421880/26421880 [==============================] - 0s 0us/step\n",
            "Downloading data from https://storage.googleapis.com/tensorflow/tf-keras-datasets/t10k-labels-idx1-ubyte.gz\n",
            "5148/5148 [==============================] - 0s 0us/step\n",
            "Downloading data from https://storage.googleapis.com/tensorflow/tf-keras-datasets/t10k-images-idx3-ubyte.gz\n",
            "4422102/4422102 [==============================] - 0s 0us/step\n"
          ]
        }
      ]
    },
    {
      "cell_type": "markdown",
      "metadata": {
        "id": "VBZkKLzJzZ-3"
      },
      "source": [
        "Let's look at the size of the dataset, and the size of the image."
      ]
    },
    {
      "cell_type": "code",
      "metadata": {
        "id": "-_4RNsYasB8Y",
        "colab": {
          "base_uri": "https://localhost:8080/"
        },
        "outputId": "cfc828b4-7e67-44a6-f22a-486bcfb18a32"
      },
      "source": [
        "X_train_full.shape, y_train_full.shape"
      ],
      "execution_count": null,
      "outputs": [
        {
          "output_type": "execute_result",
          "data": {
            "text/plain": [
              "((60000, 28, 28), (60000,))"
            ]
          },
          "metadata": {},
          "execution_count": 6
        }
      ]
    },
    {
      "cell_type": "markdown",
      "metadata": {
        "id": "53w90QKLzfYw"
      },
      "source": [
        "Here we check the data type"
      ]
    },
    {
      "cell_type": "code",
      "metadata": {
        "id": "CkuxMLUesG2y",
        "colab": {
          "base_uri": "https://localhost:8080/"
        },
        "outputId": "d1ffe0d2-15ed-474a-f48b-3e7323b1969a"
      },
      "source": [
        "X_train_full.dtype"
      ],
      "execution_count": null,
      "outputs": [
        {
          "output_type": "execute_result",
          "data": {
            "text/plain": [
              "dtype('uint8')"
            ]
          },
          "metadata": {},
          "execution_count": 7
        }
      ]
    },
    {
      "cell_type": "markdown",
      "source": [
        "What do these values ​​look like? Let's print out a training image and a training label to see... Experiment with different indices in the array. For example, also take a look at index `99`... that's a different seed than index `0`."
      ],
      "metadata": {
        "id": "Tkk2VmoiuXuC"
      }
    },
    {
      "cell_type": "code",
      "source": [
        "print(X_train_full[99])"
      ],
      "metadata": {
        "colab": {
          "base_uri": "https://localhost:8080/"
        },
        "id": "wezouoZVvFhD",
        "outputId": "7c9a4cad-28e1-47a1-9b59-8dfee7d01da6"
      },
      "execution_count": null,
      "outputs": [
        {
          "output_type": "stream",
          "name": "stdout",
          "text": [
            "[[  0   0   0   0   0   0   0   0   0   0   0   0   0   0   0   0   0   0   0   0   0   0   0   0   0   0   0   0]\n",
            " [  0   0   0   0   0   0   0   0   0   0   0   0   0   0   0   0   0   0   0   0   0   0   0   0   0   0   0   0]\n",
            " [  0   0   0   0   0   0   0   0   0   0   0   0   0   0   0   0   0   0   0   0   0   0   0   0   0   0   0   0]\n",
            " [  0   0   0   0   0   0   0   0   0   3   0   0  57  78  87  47  25   4   0   0   0   1   0   0   0   0   0   0]\n",
            " [  0   0   0   0   0   0   0   0   3   0  12 154 123  33  57  48  82 118  56   0   0   1   0   0   0   0   0   0]\n",
            " [  0   0   0   0   0   0   0   0   2   0  94 125   0   0   0   0   0  86 203  39   0   5   0   0   0   0   0   0]\n",
            " [  0   0   0   0   0   0   0   1   0   1 125  82   0   1   1   3   0  55 133  45   0   4   1   0   0   0   0   0]\n",
            " [  0   0   2   6   2   2   1   0   0  20 163  75   0   2   2   2   0 109 116  71   0   2   1   1   6   5   4   0]\n",
            " [  0   2   0   0   0   0   0   0   0   1 183  65   0   0   0   0   0 141 126  32   0   0   0   0   0   0   0   0]\n",
            " [  1   0   0  40  66 108 119 234 252 138  72 108  41  23  29  40  28 179  47  79 125 107 101  89  93  43   0   0]\n",
            " [  0   0 165 234 182 211 215 209 192 171 104 179 211 203 198 198 206 189 100 142 217 177 177 181 185 180 183  55]\n",
            " [  0  12 191 175 178 200 195 192 165 182 204 185 167 173 175 164 173 175 198 189 164 169 168 164 160 153 221 130]\n",
            " [  0   8  37 171 193 205 200 162 169 162 156 164 171 169 173 168 162 171 171 178 181 171 169 169 172 201 169  45]\n",
            " [  0  26 119 202 208 215 188 150 169 174 171 163 171 177 181 169 165 175 172 177 180 178 180 184 177 177  78  44]\n",
            " [  0  17 200 193 208 218 200 184 180 174 182 180 182 180 181 177 173 178 180 172 173 180 184 187 189 190 207  19]\n",
            " [  0  63 170 189 209 213 176 185 187 177 176 182 185 183 184 194 194 188 189 185 183 186 181 176 174 179 196  11]\n",
            " [ 86 181 183 205 213 208 168 180 185 185 186 183 184 179 183 186 182 182 187 188 184 181 184 185 187 187 207   5]\n",
            " [102 255 219 217 234 194 182 187 186 185 187 185 186 183 185 183 181 183 184 188 187 187 186 187 184 188 200   0]\n",
            " [ 30 214 224 230 218 181 192 193 193 195 198 195 195 194 193 189 189 189 185 190 189 189 193 198 191 193 198   0]\n",
            " [  0   0 114 218 181 187 195 182 184 189 190 187 187 189 193 194 190 192 198 198 193 192 195 195 193 196 191   0]\n",
            " [  0   0  67 229 183 190 179 181 191 189 191 190 190 186 188 190 190 190 192 195 197 196 190 191 195 192 172   0]\n",
            " [  1   0  43 204 191 192 187 185 187 190 192 191 187 185 190 197 200 197 194 199 204 200 200 201 181 192 173   0]\n",
            " [  1   0   0 175 189 186 182 177 175 179 185 186 181 182 185 185 184 182 183 186 194 193 205 143  28 168 166   0]\n",
            " [  2   0   0 247 207 198 224 227 227 228 234 238 240 242 237 232 234 237 236 236 238 233 254 192 102 201 175   0]\n",
            " [  0   0   0  58  89  91  98  98  88  78  77  78  82  78  73  67  64  65  65  62  60  57  52  47  62  83  23   0]\n",
            " [  0   0   0   0   0   0   0   0   0   0   0   0   0   0   0   0   0   0   0   0   0   0   0   0   0   0   0   0]\n",
            " [  0   0   0   0   0   0   0   0   0   0   0   0   0   0   0   0   0   0   0   0   0   0   0   0   0   0   0   0]\n",
            " [  0   0   0   0   0   0   0   0   0   0   0   0   0   0   0   0   0   0   0   0   0   0   0   0   0   0   0   0]]\n"
          ]
        }
      ]
    },
    {
      "cell_type": "code",
      "source": [
        "plt.imshow(X_train_full[99]);"
      ],
      "metadata": {
        "colab": {
          "base_uri": "https://localhost:8080/",
          "height": 430
        },
        "id": "bPkyAO7hZmR9",
        "outputId": "19db09be-f155-4636-b95d-a031bc022312"
      },
      "execution_count": null,
      "outputs": [
        {
          "output_type": "display_data",
          "data": {
            "text/plain": [
              "<Figure size 640x480 with 1 Axes>"
            ],
            "image/png": "[encoded data removed]"
          },
          "metadata": {}
        }
      ]
    },
    {
      "cell_type": "markdown",
      "metadata": {
        "id": "1G3bxTKSztOV"
      },
      "source": [
        "Le damos un nombre a cada una de las clases"
      ]
    },
    {
      "cell_type": "code",
      "source": [
        "# Etiquetas (columnas) que trae el DS.\n",
        "class_names = [\"T-shirt/top\", \"Trouser\", \"Pullover\", \"Dress\", \"Coat\", \"Sandal\", \"Shirt\", \"Sneaker\", \"Bag\", \"Ankle boot\"]\n",
        "class_names[y_train_full[0]]"
      ],
      "metadata": {
        "colab": {
          "base_uri": "https://localhost:8080/",
          "height": 35
        },
        "id": "KKMooXt5eQ1W",
        "outputId": "aad8e77e-fa75-486c-9e10-b63c57cf4bc8"
      },
      "execution_count": null,
      "outputs": [
        {
          "output_type": "execute_result",
          "data": {
            "text/plain": [
              "'Ankle boot'"
            ],
            "application/vnd.google.colaboratory.intrinsic+json": {
              "type": "string"
            }
          },
          "metadata": {},
          "execution_count": 10
        }
      ]
    },
    {
      "cell_type": "markdown",
      "source": [
        "Note that all the values ​​in the number are between 0 and 255. If we're training a neural network, for several reasons it's easier if we treat all the values ​​as between 0 and 1 (one of them being that it makes it easier to use the gradient descent algorithm), a process called 'normalization'... and fortunately in Python it's easy to normalize a list like this without loops. Here's how we do it:"
      ],
      "metadata": {
        "id": "jTMmCRzSvSGI"
      }
    },
    {
      "cell_type": "code",
      "metadata": {
        "id": "xpEDt1-vtHPt"
      },
      "source": [
        "X_valid, X_train = X_train_full[:5000]/255.0, X_train_full[5000:]/255.0\n",
        "y_valid, y_train = y_train_full[:5000], y_train_full[5000:]"
      ],
      "execution_count": null,
      "outputs": []
    },
    {
      "cell_type": "markdown",
      "source": [
        "Now you might be wondering why there are 2 training and testing sets. The idea is to have 1 dataset for training and then another dataset that the model hasn’t seen yet, to see how good it would be at classifying values. After all, when it’s done, we’ll want to test it on data it hasn’t seen before!"
      ],
      "metadata": {
        "id": "KCgofDASv6mW"
      }
    },
    {
      "cell_type": "markdown",
      "metadata": {
        "id": "Jziy9c1ct298"
      },
      "source": [
        "# Creación del modelo usando Keras"
      ]
    },
    {
      "cell_type": "code",
      "metadata": {
        "id": "L_0JeVVtt7TS"
      },
      "source": [
        "# Definimos el modelo con el que vamos a entrenar.\n",
        "# Cada una de estas secuencias es una capa de la red neuronal.\n",
        "model= keras.models.Sequential()\n",
        "model.add(keras.layers.Flatten(input_shape=[28,28]))    # \"aplanamos\" cada una de las imágenes para transformarlas en UN VECTOR.\n",
        "model.add(keras.layers.Dense(128, activation=\"relu\"))   # Creamos una primera capa: aplicamos una densidad a las capas de 128 y una FA ReLU.\n",
        "model.add(keras.layers.Dense(10, activation=\"softmax\")) # Creamos una segunda capa: se encarga de aprender un poco más con densidad 10 y FA softmax."
      ],
      "execution_count": null,
      "outputs": []
    },
    {
      "cell_type": "markdown",
      "source": [
        "`Sequential`: Allows us to define a SEQUENCE of layers in the neural network.\n",
        "\n",
        "`Flatten`: Remember how our images were a square before, when we printed them out? Flatten takes that square and turns it into a 1-dimensional array.\n",
        "\n",
        "`Dense`: Adds a layer of neurons.\n",
        "\n",
        "`relu`: Means \"If `X > 0` return `X`, otherwise return `0`\", so what it does is it only passes values ​​`0` or greater to the next layer in the network.\n",
        "\n",
        "`softmax`: Takes a set of values ​​and picks the largest one, so for example if the output of the last layer looks like `[0.1, 0.1, 0.05, 0.1, 9.5, 0.1, 0.05, 0.05, 0.05]`, it finds the largest value and turns it into `[0,0,0,0,1,0,0,0,0]` – the goal is to save a lot of coding!"
      ],
      "metadata": {
        "id": "hYYZY7ugwmXV"
      }
    },
    {
      "cell_type": "markdown",
      "metadata": {
        "id": "u99nsTc2ulek"
      },
      "source": [
        "another way to do this same operation of adding layers:"
      ]
    },
    {
      "cell_type": "code",
      "metadata": {
        "id": "HTD2UE8Du04I"
      },
      "source": [
        "# model= keras.models.Sequential([]\n",
        "#    keras.layers.Flatten(input_shape=[28,28])\n",
        "#    keras.layers.Dense(300, activation=\"relu\")\n",
        "#    keras.layers.Dense(300, activation=\"relu\")\n",
        "#    keras.layers.Dense(10, activation=\"softmax\")\n",
        "#])"
      ],
      "execution_count": null,
      "outputs": []
    },
    {
      "cell_type": "code",
      "metadata": {
        "id": "mwtKqraEu9OD",
        "colab": {
          "base_uri": "https://localhost:8080/"
        },
        "outputId": "a21533e5-9e03-47d5-d6c2-6d89846abb1e"
      },
      "source": [
        "model.summary()"
      ],
      "execution_count": null,
      "outputs": [
        {
          "output_type": "stream",
          "name": "stdout",
          "text": [
            "Model: \"sequential\"\n",
            "_________________________________________________________________\n",
            " Layer (type)                Output Shape              Param #   \n",
            "=================================================================\n",
            " flatten (Flatten)           (None, 784)               0         \n",
            "                                                                 \n",
            " dense (Dense)               (None, 128)               100480    \n",
            "                                                                 \n",
            " dense_1 (Dense)             (None, 10)                1290      \n",
            "                                                                 \n",
            "=================================================================\n",
            "Total params: 101,770\n",
            "Trainable params: 101,770\n",
            "Non-trainable params: 0\n",
            "_________________________________________________________________\n"
          ]
        }
      ]
    },
    {
      "cell_type": "code",
      "source": [
        "plot_model(model, show_shapes=True)"
      ],
      "metadata": {
        "colab": {
          "base_uri": "https://localhost:8080/",
          "height": 422
        },
        "id": "aoqQ7FyTe25g",
        "outputId": "c7a708be-f4fb-48cd-b726-d0b552089a22"
      },
      "execution_count": null,
      "outputs": [
        {
          "output_type": "execute_result",
          "data": {
            "image/png": "[encoded data removed]",
            "text/plain": [
              "<IPython.core.display.Image object>"
            ]
          },
          "metadata": {},
          "execution_count": 15
        }
      ]
    },
    {
      "cell_type": "markdown",
      "metadata": {
        "id": "JRvQRkBevFxJ"
      },
      "source": [
        "Now let's look at the layers."
      ]
    },
    {
      "cell_type": "code",
      "metadata": {
        "id": "OBaU3d6ovHTo",
        "colab": {
          "base_uri": "https://localhost:8080/"
        },
        "outputId": "93b901a7-787a-46af-ffba-50cca2ae613b"
      },
      "source": [
        "model.layers"
      ],
      "execution_count": null,
      "outputs": [
        {
          "output_type": "execute_result",
          "data": {
            "text/plain": [
              "[<keras.layers.reshaping.flatten.Flatten at 0x7fb432b99e70>,\n",
              " <keras.layers.core.dense.Dense at 0x7fb430a24b80>,\n",
              " <keras.layers.core.dense.Dense at 0x7fb430a25360>]"
            ]
          },
          "metadata": {},
          "execution_count": 16
        }
      ]
    },
    {
      "cell_type": "markdown",
      "metadata": {
        "id": "WhrL7chivNMR"
      },
      "source": [
        "some interesting operations and commands"
      ]
    },
    {
      "cell_type": "code",
      "metadata": {
        "colab": {
          "base_uri": "https://localhost:8080/",
          "height": 35
        },
        "id": "0yJbI2WLW4VK",
        "outputId": "9fe09ca4-6709-4901-99e1-ca0fd8c969b6"
      },
      "source": [
        "hidden1=model.layers[0]\n",
        "hidden1.name"
      ],
      "execution_count": null,
      "outputs": [
        {
          "output_type": "execute_result",
          "data": {
            "text/plain": [
              "'flatten'"
            ],
            "application/vnd.google.colaboratory.intrinsic+json": {
              "type": "string"
            }
          },
          "metadata": {},
          "execution_count": 17
        }
      ]
    },
    {
      "cell_type": "code",
      "metadata": {
        "id": "acDaiQxVvPc9",
        "colab": {
          "base_uri": "https://localhost:8080/",
          "height": 35
        },
        "outputId": "ad52fc5c-1ac0-4fd7-eddd-f109a7ef60bc"
      },
      "source": [
        "hidden1=model.layers[1]\n",
        "hidden1.name"
      ],
      "execution_count": null,
      "outputs": [
        {
          "output_type": "execute_result",
          "data": {
            "text/plain": [
              "'dense'"
            ],
            "application/vnd.google.colaboratory.intrinsic+json": {
              "type": "string"
            }
          },
          "metadata": {},
          "execution_count": 18
        }
      ]
    },
    {
      "cell_type": "code",
      "metadata": {
        "colab": {
          "base_uri": "https://localhost:8080/"
        },
        "id": "9IJs8uUOXcao",
        "outputId": "c0d80843-96ae-4fc3-ab96-136783844a71"
      },
      "source": [
        "model.get_layer('flatten') is hidden1"
      ],
      "execution_count": null,
      "outputs": [
        {
          "output_type": "execute_result",
          "data": {
            "text/plain": [
              "False"
            ]
          },
          "metadata": {},
          "execution_count": 19
        }
      ]
    },
    {
      "cell_type": "markdown",
      "metadata": {
        "id": "8q0gezVyvl1y"
      },
      "source": [
        "All parameters of a layer are accessible using `get_weights()` and `set_weights()`"
      ]
    },
    {
      "cell_type": "code",
      "metadata": {
        "id": "7BM6R0DSvtl_",
        "colab": {
          "base_uri": "https://localhost:8080/"
        },
        "outputId": "cf95735a-37e3-495d-ce9c-2197589f1b03"
      },
      "source": [
        "weights, biases = hidden1.get_weights()\n",
        "weights"
      ],
      "execution_count": null,
      "outputs": [
        {
          "output_type": "execute_result",
          "data": {
            "text/plain": [
              "array([[ 0.03139416, -0.0772654 , -0.07135119, ..., -0.07535616, -0.00503529, -0.07071846],\n",
              "       [-0.07173819, -0.07888247,  0.00883465, ...,  0.05414539, -0.07861127, -0.05306153],\n",
              "       [-0.02014362,  0.04939891,  0.00091025, ...,  0.00232191,  0.02413107, -0.05911481],\n",
              "       ...,\n",
              "       [-0.04502844,  0.03073276, -0.05061118, ...,  0.06931239, -0.03764057,  0.07728679],\n",
              "       [ 0.0612819 , -0.06592105,  0.01311474, ...,  0.02080958,  0.07349458, -0.01934412],\n",
              "       [ 0.04384878,  0.0142215 ,  0.05191039, ...,  0.00375088,  0.04227896, -0.05829149]], dtype=float32)"
            ]
          },
          "metadata": {},
          "execution_count": 22
        }
      ]
    },
    {
      "cell_type": "code",
      "metadata": {
        "id": "z1Cl_v-Wv1uU",
        "colab": {
          "base_uri": "https://localhost:8080/"
        },
        "outputId": "3198fc49-36ea-4d98-940e-e7c51c830af4"
      },
      "source": [
        "weights.shape"
      ],
      "execution_count": null,
      "outputs": [
        {
          "output_type": "execute_result",
          "data": {
            "text/plain": [
              "(784, 128)"
            ]
          },
          "metadata": {},
          "execution_count": 23
        }
      ]
    },
    {
      "cell_type": "code",
      "metadata": {
        "id": "FLAfB6ELv4i2",
        "colab": {
          "base_uri": "https://localhost:8080/"
        },
        "outputId": "d188faa9-46ea-44b7-ccb2-825246e1b0b5"
      },
      "source": [
        "biases"
      ],
      "execution_count": null,
      "outputs": [
        {
          "output_type": "execute_result",
          "data": {
            "text/plain": [
              "array([0., 0., 0., 0., 0., 0., 0., 0., 0., 0., 0., 0., 0., 0., 0., 0., 0., 0., 0., 0., 0., 0., 0., 0., 0., 0., 0., 0., 0., 0., 0., 0., 0., 0., 0., 0., 0., 0., 0., 0., 0., 0., 0., 0., 0., 0., 0., 0.,\n",
              "       0., 0., 0., 0., 0., 0., 0., 0., 0., 0., 0., 0., 0., 0., 0., 0., 0., 0., 0., 0., 0., 0., 0., 0., 0., 0., 0., 0., 0., 0., 0., 0., 0., 0., 0., 0., 0., 0., 0., 0., 0., 0., 0., 0., 0., 0., 0., 0.,\n",
              "       0., 0., 0., 0., 0., 0., 0., 0., 0., 0., 0., 0., 0., 0., 0., 0., 0., 0., 0., 0., 0., 0., 0., 0., 0., 0., 0., 0., 0., 0., 0., 0.], dtype=float32)"
            ]
          },
          "metadata": {},
          "execution_count": 24
        }
      ]
    },
    {
      "cell_type": "code",
      "metadata": {
        "id": "dv4-Cd3Cv6vk",
        "colab": {
          "base_uri": "https://localhost:8080/"
        },
        "outputId": "0ac0ffb8-3060-4f37-f646-3f9cdfb20072"
      },
      "source": [
        "biases.shape"
      ],
      "execution_count": null,
      "outputs": [
        {
          "output_type": "execute_result",
          "data": {
            "text/plain": [
              "(128,)"
            ]
          },
          "metadata": {},
          "execution_count": 25
        }
      ]
    },
    {
      "cell_type": "code",
      "metadata": {
        "colab": {
          "base_uri": "https://localhost:8080/"
        },
        "id": "tIpdeOAKnSQx",
        "outputId": "7bf8750f-c1cc-4201-bf4a-02f936ed0082"
      },
      "source": [
        "flatten = model.layers[0] # Capa de entrada: flatten\n",
        "flatten.input_shape, flatten.input_spec"
      ],
      "execution_count": null,
      "outputs": [
        {
          "output_type": "execute_result",
          "data": {
            "text/plain": [
              "((None, 28, 28), InputSpec(min_ndim=1))"
            ]
          },
          "metadata": {},
          "execution_count": 26
        }
      ]
    },
    {
      "cell_type": "code",
      "metadata": {
        "colab": {
          "base_uri": "https://localhost:8080/"
        },
        "id": "YtpUmg7pmeZ4",
        "outputId": "755c9082-d325-4be4-f2f7-f3c145e997da"
      },
      "source": [
        "hidden2 = model.layers[1] # Primera capa dense\n",
        "weights2, biases2 = hidden2.get_weights()\n",
        "weights2.shape  # 28 x 28 = 784"
      ],
      "execution_count": null,
      "outputs": [
        {
          "output_type": "execute_result",
          "data": {
            "text/plain": [
              "(784, 128)"
            ]
          },
          "metadata": {},
          "execution_count": 27
        }
      ]
    },
    {
      "cell_type": "code",
      "metadata": {
        "colab": {
          "base_uri": "https://localhost:8080/"
        },
        "id": "2ELiMxobmxVb",
        "outputId": "313716e1-f070-4ed2-ca28-a86a8a8734f5"
      },
      "source": [
        "hidden3 = model.layers[2] # Tercera capa dense: softmax\n",
        "weights3, biases3 = hidden3.get_weights()\n",
        "weights3.shape"
      ],
      "execution_count": null,
      "outputs": [
        {
          "output_type": "execute_result",
          "data": {
            "text/plain": [
              "(128, 10)"
            ]
          },
          "metadata": {},
          "execution_count": 28
        }
      ]
    },
    {
      "cell_type": "markdown",
      "metadata": {
        "id": "hKDZJtkGwA_Z"
      },
      "source": [
        "# Compiling the model"
      ]
    },
    {
      "cell_type": "markdown",
      "source": [
        "The next thing we need to do, now that the model is defined, is to build it. We do this by compiling it with an optimizer and a loss function, and then we train it by calling `model.fit` asking it to fit the training data to the training labels, i.e. we have it figure out the relationship between the training data and its actual labels, so in the future if it has data that looks like the training data, it can make a prediction of what that data would look like."
      ],
      "metadata": {
        "id": "iNmelOD5xs7-"
      }
    },
    {
      "cell_type": "code",
      "metadata": {
        "id": "hcDPLpPawDvW"
      },
      "source": [
        "model.compile(loss=\"sparse_categorical_crossentropy\",\n",
        "              optimizer= \"adam\",\n",
        "              metrics =[\"accuracy\"])"
      ],
      "execution_count": null,
      "outputs": []
    },
    {
      "cell_type": "markdown",
      "metadata": {
        "id": "9j7apDMWwc2E"
      },
      "source": [
        "# Training and evaluating the model"
      ]
    },
    {
      "cell_type": "markdown",
      "metadata": {
        "id": "w79o_WXdYFv4"
      },
      "source": [
        "It is initially evaluated with `epochs = 5` to validate its performance. We add the validation data so that we can also see the evolution of this information as the neural network is trained."
      ]
    },
    {
      "cell_type": "code",
      "metadata": {
        "id": "4H1ZKeJAwh42",
        "colab": {
          "base_uri": "https://localhost:8080/"
        },
        "outputId": "7626a7aa-286e-483a-cf52-ad8ae0b22bdd"
      },
      "source": [
        "history = model.fit(X_train, y_train, epochs=5, validation_data=(X_valid, y_valid))"
      ],
      "execution_count": null,
      "outputs": [
        {
          "output_type": "stream",
          "name": "stdout",
          "text": [
            "Epoch 1/5\n",
            "1719/1719 [==============================] - 9s 5ms/step - loss: 0.5124 - accuracy: 0.8196 - val_loss: 0.4104 - val_accuracy: 0.8528\n",
            "Epoch 2/5\n",
            "1719/1719 [==============================] - 7s 4ms/step - loss: 0.3814 - accuracy: 0.8626 - val_loss: 0.3473 - val_accuracy: 0.8738\n",
            "Epoch 3/5\n",
            "1719/1719 [==============================] - 8s 5ms/step - loss: 0.3401 - accuracy: 0.8754 - val_loss: 0.3324 - val_accuracy: 0.8768\n",
            "Epoch 4/5\n",
            "1719/1719 [==============================] - 8s 5ms/step - loss: 0.3175 - accuracy: 0.8839 - val_loss: 0.3258 - val_accuracy: 0.8760\n",
            "Epoch 5/5\n",
            "1719/1719 [==============================] - 7s 4ms/step - loss: 0.2959 - accuracy: 0.8917 - val_loss: 0.3085 - val_accuracy: 0.8846\n"
          ]
        }
      ]
    },
    {
      "cell_type": "markdown",
      "metadata": {
        "id": "8MhopdI2xmLd"
      },
      "source": [
        "Now we are going to check the variables `loss`, `accuracy`, `validation loss` and `validation_accuracy`"
      ]
    },
    {
      "cell_type": "code",
      "metadata": {
        "colab": {
          "base_uri": "https://localhost:8080/",
          "height": 206
        },
        "id": "QVj3Sp3udOq3",
        "outputId": "647f7dce-4321-4ac9-db42-b1f5b27b2c51"
      },
      "source": [
        "pd.DataFrame(history.history)"
      ],
      "execution_count": null,
      "outputs": [
        {
          "output_type": "execute_result",
          "data": {
            "text/plain": [
              "       loss  accuracy  val_loss  val_accuracy\n",
              "0  0.512413  0.819618  0.410366        0.8528\n",
              "1  0.381402  0.862582  0.347349        0.8738\n",
              "2  0.340053  0.875418  0.332398        0.8768\n",
              "3  0.317485  0.883927  0.325841        0.8760\n",
              "4  0.295894  0.891673  0.308539        0.8846"
            ],
            "text/html": [
              "\n",
              "\n",
              "  <div id=\"df-ecb28574-c994-447c-9461-fbb7e0ceadc2\">\n",
              "    <div class=\"colab-df-container\">\n",
              "      <div>\n",
              "<style scoped>\n",
              "    .dataframe tbody tr th:only-of-type {\n",
              "        vertical-align: middle;\n",
              "    }\n",
              "\n",
              "    .dataframe tbody tr th {\n",
              "        vertical-align: top;\n",
              "    }\n",
              "\n",
              "    .dataframe thead th {\n",
              "        text-align: right;\n",
              "    }\n",
              "</style>\n",
              "<table border=\"1\" class=\"dataframe\">\n",
              "  <thead>\n",
              "    <tr style=\"text-align: right;\">\n",
              "      <th></th>\n",
              "      <th>loss</th>\n",
              "      <th>accuracy</th>\n",
              "      <th>val_loss</th>\n",
              "      <th>val_accuracy</th>\n",
              "    </tr>\n",
              "  </thead>\n",
              "  <tbody>\n",
              "    <tr>\n",
              "      <th>0</th>\n",
              "      <td>0.512413</td>\n",
              "      <td>0.819618</td>\n",
              "      <td>0.410366</td>\n",
              "      <td>0.8528</td>\n",
              "    </tr>\n",
              "    <tr>\n",
              "      <th>1</th>\n",
              "      <td>0.381402</td>\n",
              "      <td>0.862582</td>\n",
              "      <td>0.347349</td>\n",
              "      <td>0.8738</td>\n",
              "    </tr>\n",
              "    <tr>\n",
              "      <th>2</th>\n",
              "      <td>0.340053</td>\n",
              "      <td>0.875418</td>\n",
              "      <td>0.332398</td>\n",
              "      <td>0.8768</td>\n",
              "    </tr>\n",
              "    <tr>\n",
              "      <th>3</th>\n",
              "      <td>0.317485</td>\n",
              "      <td>0.883927</td>\n",
              "      <td>0.325841</td>\n",
              "      <td>0.8760</td>\n",
              "    </tr>\n",
              "    <tr>\n",
              "      <th>4</th>\n",
              "      <td>0.295894</td>\n",
              "      <td>0.891673</td>\n",
              "      <td>0.308539</td>\n",
              "      <td>0.8846</td>\n",
              "    </tr>\n",
              "  </tbody>\n",
              "</table>\n",
              "</div>\n",
              "      <button class=\"colab-df-convert\" onclick=\"convertToInteractive('df-ecb28574-c994-447c-9461-fbb7e0ceadc2')\"\n",
              "              title=\"Convert this dataframe to an interactive table.\"\n",
              "              style=\"display:none;\">\n",
              "\n",
              "  <svg xmlns=\"http://www.w3.org/2000/svg\" height=\"24px\"viewBox=\"0 0 24 24\"\n",
              "       width=\"24px\">\n",
              "    <path d=\"M0 0h24v24H0V0z\" fill=\"none\"/>\n",
              "    <path d=\"M18.56 5.44l.94 2.06.94-2.06 2.06-.94-2.06-.94-.94-2.06-.94 2.06-2.06.94zm-11 1L8.5 8.5l.94-2.06 2.06-.94-2.06-.94L8.5 2.5l-.94 2.06-2.06.94zm10 10l.94 2.06.94-2.06 2.06-.94-2.06-.94-.94-2.06-.94 2.06-2.06.94z\"/><path d=\"M17.41 7.96l-1.37-1.37c-.4-.4-.92-.59-1.43-.59-.52 0-1.04.2-1.43.59L10.3 9.45l-7.72 7.72c-.78.78-.78 2.05 0 2.83L4 21.41c.39.39.9.59 1.41.59.51 0 1.02-.2 1.41-.59l7.78-7.78 2.81-2.81c.8-.78.8-2.07 0-2.86zM5.41 20L4 18.59l7.72-7.72 1.47 1.35L5.41 20z\"/>\n",
              "  </svg>\n",
              "      </button>\n",
              "\n",
              "\n",
              "\n",
              "    <div id=\"df-11a5dad9-72fc-4503-bc45-cad57939eebb\">\n",
              "      <button class=\"colab-df-quickchart\" onclick=\"quickchart('df-11a5dad9-72fc-4503-bc45-cad57939eebb')\"\n",
              "              title=\"Suggest charts.\"\n",
              "              style=\"display:none;\">\n",
              "\n",
              "<svg xmlns=\"http://www.w3.org/2000/svg\" height=\"24px\"viewBox=\"0 0 24 24\"\n",
              "     width=\"24px\">\n",
              "    <g>\n",
              "        <path d=\"M19 3H5c-1.1 0-2 .9-2 2v14c0 1.1.9 2 2 2h14c1.1 0 2-.9 2-2V5c0-1.1-.9-2-2-2zM9 17H7v-7h2v7zm4 0h-2V7h2v10zm4 0h-2v-4h2v4z\"/>\n",
              "    </g>\n",
              "</svg>\n",
              "      </button>\n",
              "    </div>\n",
              "\n",
              "<style>\n",
              "  .colab-df-quickchart {\n",
              "    background-color: #E8F0FE;\n",
              "    border: none;\n",
              "    border-radius: 50%;\n",
              "    cursor: pointer;\n",
              "    display: none;\n",
              "    fill: #1967D2;\n",
              "    height: 32px;\n",
              "    padding: 0 0 0 0;\n",
              "    width: 32px;\n",
              "  }\n",
              "\n",
              "  .colab-df-quickchart:hover {\n",
              "    background-color: #E2EBFA;\n",
              "    box-shadow: 0px 1px 2px rgba(60, 64, 67, 0.3), 0px 1px 3px 1px rgba(60, 64, 67, 0.15);\n",
              "    fill: #174EA6;\n",
              "  }\n",
              "\n",
              "  [theme=dark] .colab-df-quickchart {\n",
              "    background-color: #3B4455;\n",
              "    fill: #D2E3FC;\n",
              "  }\n",
              "\n",
              "  [theme=dark] .colab-df-quickchart:hover {\n",
              "    background-color: #434B5C;\n",
              "    box-shadow: 0px 1px 3px 1px rgba(0, 0, 0, 0.15);\n",
              "    filter: drop-shadow(0px 1px 2px rgba(0, 0, 0, 0.3));\n",
              "    fill: #FFFFFF;\n",
              "  }\n",
              "</style>\n",
              "\n",
              "    <script>\n",
              "      async function quickchart(key) {\n",
              "        const containerElement = document.querySelector('#' + key);\n",
              "        const charts = await google.colab.kernel.invokeFunction(\n",
              "            'suggestCharts', [key], {});\n",
              "      }\n",
              "    </script>\n",
              "\n",
              "      <script>\n",
              "\n",
              "function displayQuickchartButton(domScope) {\n",
              "  let quickchartButtonEl =\n",
              "    domScope.querySelector('#df-11a5dad9-72fc-4503-bc45-cad57939eebb button.colab-df-quickchart');\n",
              "  quickchartButtonEl.style.display =\n",
              "    google.colab.kernel.accessAllowed ? 'block' : 'none';\n",
              "}\n",
              "\n",
              "        displayQuickchartButton(document);\n",
              "      </script>\n",
              "      <style>\n",
              "    .colab-df-container {\n",
              "      display:flex;\n",
              "      flex-wrap:wrap;\n",
              "      gap: 12px;\n",
              "    }\n",
              "\n",
              "    .colab-df-convert {\n",
              "      background-color: #E8F0FE;\n",
              "      border: none;\n",
              "      border-radius: 50%;\n",
              "      cursor: pointer;\n",
              "      display: none;\n",
              "      fill: #1967D2;\n",
              "      height: 32px;\n",
              "      padding: 0 0 0 0;\n",
              "      width: 32px;\n",
              "    }\n",
              "\n",
              "    .colab-df-convert:hover {\n",
              "      background-color: #E2EBFA;\n",
              "      box-shadow: 0px 1px 2px rgba(60, 64, 67, 0.3), 0px 1px 3px 1px rgba(60, 64, 67, 0.15);\n",
              "      fill: #174EA6;\n",
              "    }\n",
              "\n",
              "    [theme=dark] .colab-df-convert {\n",
              "      background-color: #3B4455;\n",
              "      fill: #D2E3FC;\n",
              "    }\n",
              "\n",
              "    [theme=dark] .colab-df-convert:hover {\n",
              "      background-color: #434B5C;\n",
              "      box-shadow: 0px 1px 3px 1px rgba(0, 0, 0, 0.15);\n",
              "      filter: drop-shadow(0px 1px 2px rgba(0, 0, 0, 0.3));\n",
              "      fill: #FFFFFF;\n",
              "    }\n",
              "  </style>\n",
              "\n",
              "      <script>\n",
              "        const buttonEl =\n",
              "          document.querySelector('#df-ecb28574-c994-447c-9461-fbb7e0ceadc2 button.colab-df-convert');\n",
              "        buttonEl.style.display =\n",
              "          google.colab.kernel.accessAllowed ? 'block' : 'none';\n",
              "\n",
              "        async function convertToInteractive(key) {\n",
              "          const element = document.querySelector('#df-ecb28574-c994-447c-9461-fbb7e0ceadc2');\n",
              "          const dataTable =\n",
              "            await google.colab.kernel.invokeFunction('convertToInteractive',\n",
              "                                                     [key], {});\n",
              "          if (!dataTable) return;\n",
              "\n",
              "          const docLinkHtml = 'Like what you see? Visit the ' +\n",
              "            '<a target=\"_blank\" href=https://colab.research.google.com/notebooks/data_table.ipynb>data table notebook</a>'\n",
              "            + ' to learn more about interactive tables.';\n",
              "          element.innerHTML = '';\n",
              "          dataTable['output_type'] = 'display_data';\n",
              "          await google.colab.output.renderOutput(dataTable, element);\n",
              "          const docLink = document.createElement('div');\n",
              "          docLink.innerHTML = docLinkHtml;\n",
              "          element.appendChild(docLink);\n",
              "        }\n",
              "      </script>\n",
              "    </div>\n",
              "  </div>\n"
            ]
          },
          "metadata": {},
          "execution_count": 33
        }
      ]
    },
    {
      "cell_type": "code",
      "source": [
        "# 'history.history' contiene todos los valores 'loss', 'accuracy', 'val_loss' y\n",
        "  # 'val_accuracy' resultado del entrenaminto del modelo.\n",
        "# 'pd.DataFrame' se utiliza para crear el dataframe basado en la historia.\n",
        "pd.DataFrame(history.history).plot(figsize=(8,5))\n",
        "plt.grid(True)\n",
        "plt.gca().set_ylim(0,1)\n",
        "plt.show()"
      ],
      "metadata": {
        "colab": {
          "base_uri": "https://localhost:8080/",
          "height": 451
        },
        "id": "EfvXxbpmbNTU",
        "outputId": "e27b9a9a-7fbf-41ed-d297-cfcdf75c559f"
      },
      "execution_count": null,
      "outputs": [
        {
          "output_type": "display_data",
          "data": {
            "text/plain": [
              "<Figure size 800x500 with 1 Axes>"
            ],
            "image/png": "[encoded data removed]"
          },
          "metadata": {}
        }
      ]
    },
    {
      "cell_type": "markdown",
      "metadata": {
        "id": "-uhbE6HiyRBL"
      },
      "source": [
        "We can notice that the *training accuracy* and *validation accuracy* curves increase during training, while the loss curves become smaller."
      ]
    },
    {
      "cell_type": "markdown",
      "source": [
        "Once you've finished training, you should see an accuracy value at the end of the final epoch. It might look something like `0.9261`. This tells you that your neural network is around **93%** accurate at classifying the training data. That is, it discovered a pattern match between the image and the labels that worked 93% of the time. Too good, and it's not normal for it to have such a high accuracy value considering it was only trained for 5 epochs and was done pretty quickly.\n",
        "\n",
        "But how would it work on data it hasn't seen? That's why we have the test images. We can call `model.evaluate` and pass in the two sets, and it will report the loss for each. Let's give it a try:"
      ],
      "metadata": {
        "id": "ws5OMZ6Kyorl"
      }
    },
    {
      "cell_type": "code",
      "metadata": {
        "id": "3uOZOelayj5W",
        "colab": {
          "base_uri": "https://localhost:8080/"
        },
        "outputId": "8ec575dd-fc4a-4b72-fe6e-dc699f5cf23d"
      },
      "source": [
        "model.evaluate(X_test,y_test)"
      ],
      "execution_count": null,
      "outputs": [
        {
          "output_type": "stream",
          "name": "stdout",
          "text": [
            "313/313 [==============================] - 1s 2ms/step - loss: 51.9772 - accuracy: 0.8624\n"
          ]
        },
        {
          "output_type": "execute_result",
          "data": {
            "text/plain": [
              "[51.977203369140625, 0.8623999953269958]"
            ]
          },
          "metadata": {},
          "execution_count": 35
        }
      ]
    },
    {
      "cell_type": "markdown",
      "source": [
        "This result may be around `0.80`, meaning it was around **80%** accurate. As you might expect, it probably wouldn't work as well on data it hasn't seen as it did on the data it was trained on.\n",
        "\n",
        "To explore further, try the following exercises:"
      ],
      "metadata": {
        "id": "qr0CSFF1zz3p"
      }
    }
  ]
}